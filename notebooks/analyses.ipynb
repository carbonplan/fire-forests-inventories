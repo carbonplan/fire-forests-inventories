{
 "cells": [
  {
   "cell_type": "markdown",
   "metadata": {},
   "source": [
    "<img width=\"100\" src=\"https://carbonplan-assets.s3.amazonaws.com/monogram/dark-small.png\" style=\"margin-left:0px;margin-top:20px\"/>\n",
    "\n",
    "# NWL Fire Emissions Article\n",
    "\n",
    "**Analysis of emissions due to fires and comparison with carbon flux estimates from literature**\n",
    "\n",
    "_By Oriana Chegwidden_\n",
    "\n",
    "March 30, 2022\n",
    "\n"
   ]
  },
  {
   "cell_type": "code",
   "execution_count": 1,
   "metadata": {},
   "outputs": [],
   "source": [
    "%load_ext watermark\n",
    "\n",
    "from pathlib import PosixPath\n",
    "import matplotlib.pyplot as plt\n",
    "import xarray as xr\n",
    "\n",
    "import numpy as np\n",
    "import fsspec\n",
    "import pandas as pd\n",
    "\n",
    "import json\n",
    "import gcsfs\n",
    "import numcodecs\n",
    "from carbonplan_styles.mpl import set_theme\n",
    "\n",
    "from gfed import return_gfed_emissions, C_TO_CO2_CONVERSION\n",
    "\n",
    "work_dir = PosixPath().cwd()\n",
    "\n",
    "write_spatial = True\n",
    "\n",
    "set_theme()"
   ]
  },
  {
   "cell_type": "code",
   "execution_count": 2,
   "metadata": {},
   "outputs": [
    {
     "name": "stdout",
     "output_type": "stream",
     "text": [
      "Last updated: 2022-03-30T19:01:51.771521+00:00\n",
      "\n",
      "Python implementation: CPython\n",
      "Python version       : 3.8.12\n",
      "IPython version      : 7.10.2\n",
      "\n",
      "Compiler    : GCC 9.4.0\n",
      "OS          : Linux\n",
      "Release     : 5.4.170+\n",
      "Machine     : x86_64\n",
      "Processor   : x86_64\n",
      "CPU cores   : 8\n",
      "Architecture: 64bit\n",
      "\n",
      "Git hash: 79428de79fc5bc7639d68d1cbc68dc2fcdb8ddbb\n",
      "\n",
      "fsspec    : 2021.10.1\n",
      "json      : 2.0.9\n",
      "pandas    : 1.3.4\n",
      "numcodecs : 0.9.1\n",
      "matplotlib: 3.4.3\n",
      "numpy     : 1.20.3\n",
      "xarray    : 0.19.0\n",
      "gcsfs     : 2021.10.1\n",
      "\n"
     ]
    }
   ],
   "source": [
    "%watermark -u -i -v -m -g -iv"
   ]
  },
  {
   "cell_type": "markdown",
   "metadata": {},
   "source": [
    "# Calculate fire emissions based on GFED\n"
   ]
  },
  {
   "cell_type": "code",
   "execution_count": 3,
   "metadata": {},
   "outputs": [
    {
     "name": "stderr",
     "output_type": "stream",
     "text": [
      "  0%|          | 0/22 [00:00<?, ?it/s]/srv/conda/envs/notebook/lib/python3.8/site-packages/regionmask/core/regions.py:410: ShapelyDeprecationWarning: Iteration over multi-part geometries is deprecated and will be removed in Shapely 2.0. Use the `geoms` property to access the constituent parts of a multi-part geometry.\n",
      "  for p in poly:\n",
      "100%|██████████| 22/22 [02:13<00:00,  6.06s/it]\n"
     ]
    }
   ],
   "source": [
    "CO2_df, full_ds = return_gfed_emissions(start_year=2000, end_year=2021, return_spatial=True)"
   ]
  },
  {
   "cell_type": "markdown",
   "metadata": {},
   "source": [
    "# Save the GFED files to repo for safe keeping\n"
   ]
  },
  {
   "cell_type": "code",
   "execution_count": 4,
   "metadata": {},
   "outputs": [],
   "source": [
    "if write_spatial:\n",
    "    storage_options = {\"verify_ssl\": False}\n",
    "    fs = gcsfs.GCSFileSystem()\n",
    "    cloud_bucket = \"gs://carbonplan-nwl\"\n",
    "    encoding = {\"emissions MMT CO2/year\": {\"compressor\": numcodecs.Blosc()}}\n",
    "    store = fsspec.get_mapper(cloud_bucket + \"/data/GFED_annual_emissions_CO2.zarr\")\n",
    "    full_ds.to_zarr(store, mode=\"w\", encoding=encoding)"
   ]
  },
  {
   "cell_type": "markdown",
   "metadata": {},
   "source": [
    "# Total greenhouse gas emisisons from California Air Resources Board\n"
   ]
  },
  {
   "cell_type": "markdown",
   "metadata": {},
   "source": [
    "Load in 2021 CARB GHG Emissions Inventory from https://ww2.arb.ca.gov/ghg-inventory-data.\n",
    "\n",
    "File:\n",
    "https://ww3.arb.ca.gov/cc/inventory/pubs/reports/2000_2019/2000_2019_ghg_inventory_trends_figures.xlsx\n"
   ]
  },
  {
   "cell_type": "code",
   "execution_count": 5,
   "metadata": {},
   "outputs": [],
   "source": [
    "ghg_california_emissions_carb = pd.read_excel(\n",
    "    work_dir / \"2000_2019_ghg_inventory_trends_figures.xlsx\"\n",
    ")\n",
    "ghg_california_emissions_carb = pd.Series(\n",
    "    list(ghg_california_emissions_carb.loc[4].values[2:]),\n",
    "    index=pd.date_range(\"2000\", \"2020\", freq=\"Y\"),\n",
    ")"
   ]
  },
  {
   "cell_type": "markdown",
   "metadata": {},
   "source": [
    "# Collate the greenhouse gas and fire emissions estimates\n"
   ]
  },
  {
   "cell_type": "markdown",
   "metadata": {},
   "source": [
    "Initialize the dataframe with fires.\n"
   ]
  },
  {
   "cell_type": "code",
   "execution_count": 6,
   "metadata": {},
   "outputs": [],
   "source": [
    "full_emissions_df = pd.DataFrame(CO2_df, columns=[\"Fire (GFED)\"])"
   ]
  },
  {
   "cell_type": "markdown",
   "metadata": {},
   "source": [
    "Since 2019 is the most recent year for which we have GHG estimates we'll just assume the emissions\n",
    "for 2020-2021 were the same as 2019. We know that this assumption has error, largely due to the\n",
    "COVID-19 pandemic, but these numbers will largely be used for illustrative purposes and do not\n",
    "expect any updates to change the overall story.\n"
   ]
  },
  {
   "cell_type": "code",
   "execution_count": 7,
   "metadata": {},
   "outputs": [],
   "source": [
    "full_emissions_df[\"Anthropogenic GHG Inventory\"] = ghg_california_emissions_carb"
   ]
  },
  {
   "cell_type": "markdown",
   "metadata": {},
   "source": [
    "Forward fill 2020 and 2021 with 2019 estimates for GHG inventory\n"
   ]
  },
  {
   "cell_type": "code",
   "execution_count": 8,
   "metadata": {},
   "outputs": [],
   "source": [
    "full_emissions_df.iloc[-1, 1] = full_emissions_df.iloc[-3, 1]\n",
    "full_emissions_df.iloc[-2, 1] = full_emissions_df.iloc[-3, 1]"
   ]
  },
  {
   "cell_type": "markdown",
   "metadata": {},
   "source": [
    "Then add in CARB's fire estimates from CARB's _Wildfire Emission Estimates for 2020_. Data accessed\n",
    "here: https://ww2.arb.ca.gov/wildfire-emissions\n",
    "\n",
    "File: Wildfire Emissions & Burned Area Estimates 2000–2020 located at\n",
    "https://ww2.arb.ca.gov/sites/default/files/2021-07/Wildfire%20Emission%20Estimates%20for%202020%20_Final.pdf\n",
    "\n",
    "Numbers are digitized into the `carb_wildfire_estimates_2020.txt` file in this directory.\n"
   ]
  },
  {
   "cell_type": "code",
   "execution_count": 9,
   "metadata": {},
   "outputs": [],
   "source": [
    "carb_fire = pd.read_csv(work_dir / \"carb_wildfire_estimates_2020.txt\", header=None)\n",
    "carb_fire = pd.Series(carb_fire[1].values, index=pd.date_range(\"2000\", \"2021\", freq=\"Y\"))\n",
    "full_emissions_df[\"Fire (CARB)\"] = carb_fire"
   ]
  },
  {
   "cell_type": "code",
   "execution_count": 10,
   "metadata": {},
   "outputs": [
    {
     "data": {
      "text/html": [
       "<div>\n",
       "<style scoped>\n",
       "    .dataframe tbody tr th:only-of-type {\n",
       "        vertical-align: middle;\n",
       "    }\n",
       "\n",
       "    .dataframe tbody tr th {\n",
       "        vertical-align: top;\n",
       "    }\n",
       "\n",
       "    .dataframe thead th {\n",
       "        text-align: right;\n",
       "    }\n",
       "</style>\n",
       "<table border=\"1\" class=\"dataframe\">\n",
       "  <thead>\n",
       "    <tr style=\"text-align: right;\">\n",
       "      <th></th>\n",
       "      <th>Fire (GFED)</th>\n",
       "      <th>Anthropogenic GHG Inventory</th>\n",
       "      <th>Fire (CARB)</th>\n",
       "    </tr>\n",
       "  </thead>\n",
       "  <tbody>\n",
       "    <tr>\n",
       "      <th>2000-12-31</th>\n",
       "      <td>6.571791</td>\n",
       "      <td>468.0</td>\n",
       "      <td>5.4</td>\n",
       "    </tr>\n",
       "    <tr>\n",
       "      <th>2001-12-31</th>\n",
       "      <td>6.057294</td>\n",
       "      <td>483.1</td>\n",
       "      <td>6.2</td>\n",
       "    </tr>\n",
       "    <tr>\n",
       "      <th>2002-12-31</th>\n",
       "      <td>6.971701</td>\n",
       "      <td>482.7</td>\n",
       "      <td>13.5</td>\n",
       "    </tr>\n",
       "    <tr>\n",
       "      <th>2003-12-31</th>\n",
       "      <td>7.649050</td>\n",
       "      <td>482.8</td>\n",
       "      <td>18.3</td>\n",
       "    </tr>\n",
       "    <tr>\n",
       "      <th>2004-12-31</th>\n",
       "      <td>5.993434</td>\n",
       "      <td>490.8</td>\n",
       "      <td>5.2</td>\n",
       "    </tr>\n",
       "  </tbody>\n",
       "</table>\n",
       "</div>"
      ],
      "text/plain": [
       "            Fire (GFED)  Anthropogenic GHG Inventory  Fire (CARB)\n",
       "2000-12-31     6.571791                        468.0          5.4\n",
       "2001-12-31     6.057294                        483.1          6.2\n",
       "2002-12-31     6.971701                        482.7         13.5\n",
       "2003-12-31     7.649050                        482.8         18.3\n",
       "2004-12-31     5.993434                        490.8          5.2"
      ]
     },
     "execution_count": 10,
     "metadata": {},
     "output_type": "execute_result"
    }
   ],
   "source": [
    "full_emissions_df.head()"
   ]
  },
  {
   "cell_type": "markdown",
   "metadata": {},
   "source": [
    "Let's first just write out a df with just the variables for the blog post we're considering right\n",
    "now. Jeremy will use this to make a nice set of initial figures.\n"
   ]
  },
  {
   "cell_type": "markdown",
   "metadata": {},
   "source": [
    "# Figure 1: How do California's GHG emissions compare to their 2020 target set by AB32 (431 MMT CO2)\n"
   ]
  },
  {
   "cell_type": "code",
   "execution_count": 11,
   "metadata": {},
   "outputs": [
    {
     "data": {
      "text/plain": [
       "Text(0, 0.5, 'CO2 Emissions [MMT]')"
      ]
     },
     "execution_count": 11,
     "metadata": {},
     "output_type": "execute_result"
    },
    {
     "data": {
      "image/png": "[encoded data removed]",
      "text/plain": [
       "<Figure size 432x288 with 1 Axes>"
      ]
     },
     "metadata": {},
     "output_type": "display_data"
    }
   ],
   "source": [
    "full_emissions_df[\n",
    "    [\n",
    "        \"Anthropogenic GHG Inventory\",\n",
    "    ]\n",
    "].plot()\n",
    "plt.axhline(431, color=\"k\", label=\"AB32 2020 Limit\")\n",
    "plt.legend()\n",
    "plt.ylabel(\"CO2 Emissions [MMT]\")"
   ]
  },
  {
   "cell_type": "markdown",
   "metadata": {},
   "source": [
    "From the above plot it might like a big reduction in emissions but if we zero-out the y-axis we see\n",
    "that emissions reductions aren't that significant percentage-wise.\n"
   ]
  },
  {
   "cell_type": "code",
   "execution_count": 12,
   "metadata": {},
   "outputs": [
    {
     "data": {
      "text/plain": [
       "(0.0, 494.43)"
      ]
     },
     "execution_count": 12,
     "metadata": {},
     "output_type": "execute_result"
    },
    {
     "data": {
      "image/png": "[encoded data removed]",
      "text/plain": [
       "<Figure size 432x288 with 1 Axes>"
      ]
     },
     "metadata": {},
     "output_type": "display_data"
    }
   ],
   "source": [
    "full_emissions_df[\n",
    "    [\n",
    "        \"Anthropogenic GHG Inventory\",\n",
    "    ]\n",
    "].plot()\n",
    "plt.axhline(431, color=\"k\", label=\"AB32 2020 Limit\")\n",
    "plt.ylabel(\"CO2 Emissions [MMT]\")\n",
    "plt.legend()\n",
    "plt.ylim(0)"
   ]
  },
  {
   "cell_type": "markdown",
   "metadata": {},
   "source": [
    "We'll write out these numbers to creat our web article.\n"
   ]
  },
  {
   "cell_type": "code",
   "execution_count": 13,
   "metadata": {},
   "outputs": [],
   "source": [
    "figure1_json = {}\n",
    "figure1_json[\"ghg_inventory\"] = (\n",
    "    np.array(\n",
    "        [\n",
    "            full_emissions_df.index.year.values,\n",
    "            full_emissions_df[[\"Anthropogenic GHG Inventory\"]].values.squeeze(),\n",
    "        ]\n",
    "    )\n",
    "    .transpose()\n",
    "    .tolist()\n",
    ")\n",
    "figure1_json[\"AB32\"] = 431  # The target for\n",
    "with open(work_dir / \"figure1.json\", \"w\") as outfile:\n",
    "    json.dump(figure1_json, outfile)"
   ]
  },
  {
   "cell_type": "markdown",
   "metadata": {},
   "source": [
    "# Figure 2: What about fire emissions?\n",
    "\n",
    "What do fire emissions look like over time? CARB provides estimates, but they haven't yet released\n",
    "2021's estimates. Let's use GFED to get a preview. And along the way, let's compare the estimates to\n",
    "see how they might differ.\n"
   ]
  },
  {
   "cell_type": "code",
   "execution_count": 14,
   "metadata": {},
   "outputs": [
    {
     "data": {
      "text/plain": [
       "Text(0, 0.5, 'CO2 Emissions [MMT]')"
      ]
     },
     "execution_count": 14,
     "metadata": {},
     "output_type": "execute_result"
    },
    {
     "data": {
      "image/png": "[encoded data removed]",
      "text/plain": [
       "<Figure size 432x288 with 1 Axes>"
      ]
     },
     "metadata": {},
     "output_type": "display_data"
    }
   ],
   "source": [
    "fig, ax = plt.subplots()\n",
    "full_emissions_df[[\"Fire (CARB)\", \"Fire (GFED)\"]].plot(ax=ax)\n",
    "plt.ylabel(\"CO2 Emissions [MMT]\")"
   ]
  },
  {
   "cell_type": "markdown",
   "metadata": {},
   "source": [
    "And let's write out those numbers to JSON\n"
   ]
  },
  {
   "cell_type": "code",
   "execution_count": 15,
   "metadata": {},
   "outputs": [],
   "source": [
    "figure2_json = {}\n",
    "for dataset in [\"Fire (CARB)\", \"Fire (GFED)\"]:\n",
    "    figure2_json[dataset] = (\n",
    "        np.array(\n",
    "            [full_emissions_df.index.year.values, full_emissions_df[[dataset]].values.squeeze()]\n",
    "        )\n",
    "        .transpose()\n",
    "        .tolist()\n",
    "    )\n",
    "with open(work_dir / \"figure2.json\", \"w\") as outfile:\n",
    "    json.dump(figure2_json, outfile)"
   ]
  },
  {
   "cell_type": "markdown",
   "metadata": {},
   "source": [
    "# Calculating the appropriate time periods to match the estimates in the literature\n"
   ]
  },
  {
   "cell_type": "markdown",
   "metadata": {},
   "source": [
    "Calculating emissions based upon annual timeseries and differences between multiyear averages are\n",
    "different methods. Thus, it can be tricky to align annual emissions timeseries with emissions\n",
    "calculated based upon stock-difference approaches from multiyear averages of FIA data. Based upon\n",
    "understandings of FIA inventory approaches we will assume that fluxes calculated by comparing\n",
    "inventories from two periods, (`first_period_startyear` to `first_period_endyear`) and\n",
    "(`second_period_startyear` to `second_period_endyear`) will be representative of average fluxes from\n",
    "(`first_period_endyear` to `second_period_endyear`) exclusive. We spell out the details of those\n",
    "assumptions below.\n"
   ]
  },
  {
   "cell_type": "markdown",
   "metadata": {},
   "source": [
    "Defining how we handle time periods (because it is tricky!):\n",
    "\n",
    "- If FIA period sampling - sampling time period (`period_startyear` - `period_endyear`) we assume\n",
    "  the `period_endyear` is the year it is representative of. Conceptually, we can say that if a fire\n",
    "  went through in an earlier year we would have captured that loss in carbon by accesing the\n",
    "  `period_endyear`.\n",
    "- Now we can think of the FIA sampling periods as corresponding to difference between two years, and\n",
    "  create annualized average stock change estimates across the period between those two years.\n",
    "- In aligning the annualized estimates with fire emissions we use emissions from the years after\n",
    "  that time period ends. As an example, Christensen et al (2001-2005)-(2011-2015) carbon flux\n",
    "  estimates we'll align with fires 2006-2015 (inclusive).\n",
    "- For Gonzalez et al (2015) it is more simple example since they use Landfire- their time period is\n",
    "  2001-2010 so we'll use 2002-2010 (inclusive).\n"
   ]
  },
  {
   "cell_type": "markdown",
   "metadata": {},
   "source": [
    "# Collate net carbon flux estimates from the literature\n"
   ]
  },
  {
   "cell_type": "markdown",
   "metadata": {},
   "source": [
    "The literature includes a range of estimates of forest carbon fluxes. Here we collect them, note\n",
    "their provenance, keep track of the time periods which they cover, and note any nuances for each\n",
    "data source.\n"
   ]
  },
  {
   "cell_type": "markdown",
   "metadata": {},
   "source": [
    "### AB 1504 California Forest Ecosystem and Harvested Wood Product Carbon Inventory\n"
   ]
  },
  {
   "cell_type": "markdown",
   "metadata": {},
   "source": [
    "First, estimates from Christensen et al. _AB 1504 California Forest Ecosystem and Harvested Wood\n",
    "Product Carbon Inventory: 2017 Reporting Period. Final Report._ Febraury 13, 2019.  \n",
    "The estimates below are in MMT CO2e and do not include contributions from the harvested wood\n",
    "products. They released updated these numbers twice with additional reports (releasing reports in\n",
    "2015, 2016, and 2017). Holland et al (described below) reference the numbers from the 2015 report.\n"
   ]
  },
  {
   "cell_type": "code",
   "execution_count": 16,
   "metadata": {},
   "outputs": [],
   "source": [
    "# all slices here are INCLUSIVE\n",
    "net_options = {\n",
    "    \"holland_et_al_2019\": {\n",
    "        \"value\": -4.5 * C_TO_CO2_CONVERSION,\n",
    "        \"range\": slice(\"2007\", \"2016\"),\n",
    "    },  # periods (10 years)- this is the number they recommend in final conclusion\n",
    "    \"gonzalez_et_al_2015\": {\n",
    "        \"value\": 4.8\n",
    "        * C_TO_CO2_CONVERSION,  # trees only # also available: wildland ecosystems (-6.9), trees and shrubland (-7.1)\n",
    "        \"range\": slice(\"2002\", \"2010\"),\n",
    "    },  # all land excluding crops and settlements\n",
    "    \"ab1504_2015\": {\n",
    "        \"value\": -6.5 * C_TO_CO2_CONVERSION,  # AB1504 2015 estimate for standing live tree\n",
    "        \"range\": slice(\"2006\", \"2015\"),\n",
    "    },\n",
    "    \"ab1504_2019\": {\"value\": -13.091, \"range\": slice(\"2010\", \"2019\")},  # already in CO2\n",
    "}"
   ]
  },
  {
   "cell_type": "code",
   "execution_count": 17,
   "metadata": {},
   "outputs": [],
   "source": [
    "net_options_json = {\n",
    "    \"holland_et_al_2019_periods\": {\"value\": -4.5 * C_TO_CO2_CONVERSION, \"range\": [2007, 2016]},\n",
    "    \"gonzalez_et_al_2015\": {\n",
    "        \"value\": 4.8 * C_TO_CO2_CONVERSION,\n",
    "        \"range\": [2002, 2010],\n",
    "    },  # all land excluding crops and settlements\n",
    "    \"ab1504_2015\": {\n",
    "        \"value\": -6.5 * C_TO_CO2_CONVERSION,\n",
    "        \"range\": [2006, 2015],\n",
    "    },  # they only did trees so it's a little hard to compare\n",
    "    \"ab1504_2019\": {\n",
    "        \"value\": -3.58 * C_TO_CO2_CONVERSION,  # -13.091/C_TO_CO2_CONVERSION\n",
    "        \"range\": [2010, 2019],\n",
    "    },  # (plots measured (2001-2007) compared to (2011-2017)\n",
    "}"
   ]
  },
  {
   "cell_type": "code",
   "execution_count": 18,
   "metadata": {},
   "outputs": [],
   "source": [
    "with open(work_dir / \"figure3.json\", \"w\") as outfile:\n",
    "    json.dump(net_options_json, outfile)"
   ]
  },
  {
   "cell_type": "markdown",
   "metadata": {},
   "source": [
    "So the values above represent the net effect of forests from the sources and sinks from California\n",
    "vegetation. We also have emissions due to fires calculated in two different ways by CARB and GFED\n",
    "above. We'll first translate the AGC vegetation effects into CO2 and then subtract out our fire\n",
    "emissions to get the non-fire effect. We'll assume that this is largely due to vegetation\n",
    "sequestration. It will likely be low-biased as we do not remove any effects of droughts or insect\n",
    "(esp. bark beetle) effects. It's worthwhile to note that Holland et al (2019) stress that while the\n",
    "remote sensing based techniques are more highly biased when doing inventory analysis for growth they\n",
    "_are_ useful for change mapping (like is done in by the CARB/GFED estimates!). So, we're essentially\n",
    "trusting the robust estimates from Holland et al (2019) do a good growth model, but then remove a\n",
    "credible fire emissions effect.\n"
   ]
  },
  {
   "cell_type": "markdown",
   "metadata": {},
   "source": [
    "Since Holland et al (2019) calculated it based upon changes in stocks between (2001-2005) and\n",
    "(2011-2015), we should align with them in our fire analyses to maintain consistency. So, we'll do\n",
    "2001-2015.\n"
   ]
  },
  {
   "cell_type": "code",
   "execution_count": 19,
   "metadata": {},
   "outputs": [],
   "source": [
    "accounting_method = \"holland_et_al_2019\"\n",
    "fire_method = \"Fire (CARB)\""
   ]
  },
  {
   "cell_type": "code",
   "execution_count": 20,
   "metadata": {},
   "outputs": [],
   "source": [
    "fire_effect = full_emissions_df[fire_method].loc[net_options[accounting_method][\"range\"]].mean()\n",
    "net_effect = net_options[accounting_method][\"value\"]\n",
    "vegetation_uptake = net_effect - fire_effect"
   ]
  },
  {
   "cell_type": "code",
   "execution_count": 21,
   "metadata": {},
   "outputs": [
    {
     "data": {
      "text/plain": [
       "<matplotlib.lines.Line2D at 0x7f3d4499f6a0>"
      ]
     },
     "execution_count": 21,
     "metadata": {},
     "output_type": "execute_result"
    },
    {
     "data": {
      "image/png": "[encoded data removed]",
      "text/plain": [
       "<Figure size 432x288 with 1 Axes>"
      ]
     },
     "metadata": {},
     "output_type": "display_data"
    }
   ],
   "source": [
    "plt.bar(\n",
    "    [\"Fire effect\", \"Vegetation sequestration\", \"Net\"],\n",
    "    np.array([fire_effect, vegetation_uptake, net_effect]),\n",
    ")\n",
    "plt.ylabel(\n",
    "    \"CO2 emissions [MMT CO2/year] from NWL when using\\n\"\n",
    "    \"{} and {}\".format(accounting_method, fire_method)\n",
    ")\n",
    "plt.ylim(-75, 75)\n",
    "plt.axhline(0, color=\"k\")"
   ]
  },
  {
   "cell_type": "markdown",
   "metadata": {},
   "source": [
    "Now we'll assume the vegetation sequestration is the same. We don't really know for sure (it's so\n",
    "tricky to figure out) but we'll just assume that since Holland et al (2019) did a good job we'll\n",
    "trust them. But we'll sub in the average annual fire effect like it's been for the past 15 years and\n",
    "update the net effect.\n"
   ]
  },
  {
   "cell_type": "markdown",
   "metadata": {},
   "source": [
    "Caveats:\n",
    "\n",
    "    * assumes no effect of a giant regrowth due to large fires in later part of record\n"
   ]
  },
  {
   "cell_type": "markdown",
   "metadata": {},
   "source": [
    "Instead if we took the vegetation sequestration from Christensen and applied the fire estimates we\n",
    "could also create an updated net effect.\n"
   ]
  },
  {
   "cell_type": "markdown",
   "metadata": {},
   "source": [
    "Now let's add the \"net emissions\" assuming constant vegetation sequestration and variable fire\n",
    "effects to each year of the GHG inventory.\n"
   ]
  },
  {
   "cell_type": "code",
   "execution_count": 22,
   "metadata": {},
   "outputs": [],
   "source": [
    "full_emissions_df[\"Vegetation sequestration\"] = vegetation_uptake\n",
    "full_emissions_df[\"Net forest effect\"] = (\n",
    "    full_emissions_df[fire_method] + full_emissions_df[\"Vegetation sequestration\"]\n",
    ")\n",
    "full_emissions_df[\"Anthropogenic + Forests GHG Inventory\"] = (\n",
    "    full_emissions_df[\"Anthropogenic GHG Inventory\"] + full_emissions_df[\"Net forest effect\"]\n",
    ")"
   ]
  },
  {
   "cell_type": "code",
   "execution_count": 23,
   "metadata": {},
   "outputs": [
    {
     "data": {
      "text/plain": [
       "(0.0, 499.59499999999997)"
      ]
     },
     "execution_count": 23,
     "metadata": {},
     "output_type": "execute_result"
    },
    {
     "data": {
      "image/png": "[encoded data removed]",
      "text/plain": [
       "<Figure size 432x288 with 1 Axes>"
      ]
     },
     "metadata": {},
     "output_type": "display_data"
    }
   ],
   "source": [
    "full_emissions_df[[\"Anthropogenic GHG Inventory\", \"Anthropogenic + Forests GHG Inventory\"]].plot()\n",
    "\n",
    "plt.axhline(431, color=\"k\", label=\"AB32 2020 Limit\")\n",
    "plt.ylabel(\"CO2 Emissions [MMT]\")\n",
    "plt.legend()\n",
    "plt.ylim(0)"
   ]
  },
  {
   "cell_type": "code",
   "execution_count": null,
   "metadata": {},
   "outputs": [],
   "source": []
  }
 ],
 "metadata": {
  "kernelspec": {
   "display_name": "Python [conda env:notebook] *",
   "language": "python",
   "name": "conda-env-notebook-py"
  },
  "language_info": {
   "codemirror_mode": {
    "name": "ipython",
    "version": 3
   },
   "file_extension": ".py",
   "mimetype": "text/x-python",
   "name": "python",
   "nbconvert_exporter": "python",
   "pygments_lexer": "ipython3",
   "version": "3.8.12"
  }
 },
 "nbformat": 4,
 "nbformat_minor": 4
}
