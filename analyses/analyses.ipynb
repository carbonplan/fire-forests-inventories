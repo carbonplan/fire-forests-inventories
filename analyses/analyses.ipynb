{
 "cells": [
  {
   "cell_type": "markdown",
   "metadata": {},
   "source": [
    "# NWL Fire Emissions Blog Post\n",
    "### Analysis of emissions due to fires and comparison with GHG reductions from other sectors\n",
    "By Oriana Chegwidden - December 4, 2020"
   ]
  },
  {
   "cell_type": "markdown",
   "metadata": {},
   "source": [
    "The NFED analysis code uses as its basis https://www.geo.vu.nl/~gwerf/GFED/GFED4/ancill/code/get_GFED4s_CO_emissions.py"
   ]
  },
  {
   "cell_type": "code",
   "execution_count": 7,
   "metadata": {},
   "outputs": [],
   "source": [
    "import matplotlib.pyplot as plt\n",
    "import xarray as xr\n",
    "import regionmask\n",
    "\n",
    "import numpy as np\n",
    "import h5py\n",
    "import fsspec\n",
    "import pandas as pd\n",
    "from tqdm import tqdm\n",
    "C_TO_CO2_CONVERSION = 3.66\n",
    "\n",
    "# Update this to where you're working!\n",
    "work_dir = '/home/jovyan/blogposts/nwl-california-forests/analyses/'"
   ]
  },
  {
   "cell_type": "code",
   "execution_count": 8,
   "metadata": {},
   "outputs": [
    {
     "name": "stderr",
     "output_type": "stream",
     "text": [
      "100%|██████████| 24/24 [04:06<00:00, 10.25s/it]"
     ]
    },
    {
     "name": "stdout",
     "output_type": "stream",
     "text": [
      "TOO BAD! 10 not available\n",
      "TOO BAD! 11 not available\n"
     ]
    },
    {
     "name": "stderr",
     "output_type": "stream",
     "text": [
      "\n"
     ]
    }
   ],
   "source": [
    "\n",
    "\n",
    "\n",
    "months       = '01','02','03','04','05','06','07','08','09','10','11','12'\n",
    "sources      = 'SAVA','BORF','TEMF','DEFO','PEAT','AGRI'\n",
    "\n",
    "\n",
    "# in this example we will calculate annual CO emissions for the 14 GFED \n",
    "# basisregions over 1997-2014. Please adjust the code to calculate emissions\n",
    "# for your own specie, region, and time period of interest. Please\n",
    "# first download the GFED4.1s files and the GFED4_Emission_Factors.txt\n",
    "# to your computer and adjust the directory where you placed them below\n",
    "\n",
    "directory    = 'https://www.geo.vu.nl/~gwerf/GFED/GFED4'\n",
    "\n",
    "\n",
    "\"\"\"\n",
    "Read in emission factors\n",
    "\"\"\"\n",
    "\n",
    "start_year = 1997\n",
    "end_year   = 2020\n",
    "# Do you want to calculate emissions for each of the different\n",
    "# regions or just use their pre-calculated sum?\n",
    "partitioning = False \n",
    "gfeds_regions = False\n",
    "\n",
    "\"\"\"\n",
    "make table with summed DM emissions for each region, year, and source\n",
    "\"\"\"\n",
    "CO2_table = np.zeros((1, end_year - start_year + 1))\n",
    "\n",
    "\n",
    "for year in tqdm(range(start_year, end_year+1)):\n",
    "    if year < 2017:\n",
    "        annual_file = directory+'/GFED4.1s_'+str(year)+'.hdf5'\n",
    "    else:\n",
    "        annual_file = directory+'/GFED4.1s_'+str(year)+'_beta.hdf5'\n",
    "    with fsspec.open(annual_file).open() as filename:\n",
    "        f = h5py.File(filename, 'r')\n",
    "    \n",
    "    \n",
    "    if year == start_year: # these are time invariable    \n",
    "        basis_regions = f['/ancill/basis_regions'][:]\n",
    "        grid_area     = f['/ancill/grid_cell_area'][:]\n",
    "        lat_values = f['/lat'][:,0]\n",
    "        lon_values = f['/lon'][0,:]\n",
    "    \n",
    "    CO2_emissions = np.zeros((720, 1440))\n",
    "    ds_CO2_list = []\n",
    "    for month in range(12):\n",
    "        try:\n",
    "    #         # read in DM emissions\n",
    "            string = '/emissions/'+months[month]+'/C'\n",
    "            C_emissions = f[string][:]\n",
    "            if partitioning:\n",
    "                for source in range(6):\n",
    "                    # read in the fractional contribution of each source\n",
    "                    string = '/emissions/'+months[month]+'/partitioning/C_'+sources[source]\n",
    "                    contribution = f[string][:]\n",
    "                    # calculate CO emissions as the product of DM emissions (kg DM per \n",
    "                    # m2 per month), the fraction the specific source contributes to \n",
    "                    # this (unitless), and the emission factor (g CO per kg DM burned)\n",
    "                    C_emisisons += C_emissions * contribution\n",
    "            else:\n",
    "                # calculate the total annual emisisons\n",
    "                CO2_emissions += C_emissions * C_TO_CO2_CONVERSION # Conversion mass C to CO2\n",
    "        except KeyError:\n",
    "            print('TOO BAD! {} not available'.format(month))\n",
    "\n",
    "    \n",
    "    # fill table with total values for the globe (row 15) or basisregion (1-14)\n",
    "    if gfeds_regions: \n",
    "        CO2_table = pd.DataFrame(np.zeros((15, end_year - start_year + 1)), \n",
    "                             index=pd.date_range(start_year, end_year + 1, freq='A')) # region, year\n",
    "        for region in range(15):\n",
    "            if region == 14:\n",
    "                mask = np.ones((720, 1440))\n",
    "            else:\n",
    "                mask = basis_regions == (region + 1)            \n",
    "            CO2_table[region, year-start_year] = np.sum(grid_area * mask * CO2_emissions)\n",
    "    else:\n",
    "        # mask by california instead\n",
    "        ds_CO2 = xr.DataArray(data=CO2_emissions * grid_area,\n",
    "                             dims=['lat', 'lon'],\n",
    "                             coords={'lat': lat_values,\n",
    "                                    'lon': lon_values})\n",
    "        ds_CO2_list.append(ds_CO2)\n",
    "        if year==start_year:\n",
    "            mask = regionmask.defined_regions.natural_earth.us_states_50.mask(ds_CO2)\n",
    "        \n",
    "        CO2_table[0,year-start_year] = ds_CO2.where(mask == 4).sum()\n",
    "\n",
    "\n",
    "CO2_df = pd.Series(CO2_table.squeeze() * 1e-12,\n",
    "                    index=pd.date_range(str(start_year), str(end_year+1), freq='Y'))"
   ]
  },
  {
   "cell_type": "code",
   "execution_count": 9,
   "metadata": {},
   "outputs": [],
   "source": [
    "def date_format(date):\n",
    "    \"\"\"\n",
    "    Convert time label to the format of pandas line plot\n",
    "    \"\"\"\n",
    "    return f'{date.year}'"
   ]
  },
  {
   "cell_type": "markdown",
   "metadata": {},
   "source": [
    "Load in CARB GHG Emissions Inventory from https://ww3.arb.ca.gov/cc/inventory/pubs/reports/2000_2018/ghg_inventory_trends_00-18.pdf"
   ]
  },
  {
   "cell_type": "code",
   "execution_count": 22,
   "metadata": {},
   "outputs": [],
   "source": [
    "ghg_california_emissions_carb = pd.read_excel('{}/2000_2018_ghg_inventory_trends_figures.xlsx'.format(work_dir))\n",
    "ghg_california_emissions_carb = pd.Series(list(ghg_california_emissions_carb.loc[4].values[2:]), \n",
    "                                          index=pd.date_range('2000','2019',freq='Y'))"
   ]
  },
  {
   "cell_type": "markdown",
   "metadata": {},
   "source": [
    "Initialize the dataframe with fires."
   ]
  },
  {
   "cell_type": "code",
   "execution_count": 23,
   "metadata": {},
   "outputs": [],
   "source": [
    "full_emissions_df = pd.DataFrame(CO2_df, columns=['Fire (GFED)'])"
   ]
  },
  {
   "cell_type": "markdown",
   "metadata": {},
   "source": [
    "For now just assume the emissions for 2019 and 2020 are the same as 2018 (but will likely improve this assumption)"
   ]
  },
  {
   "cell_type": "code",
   "execution_count": 24,
   "metadata": {},
   "outputs": [],
   "source": [
    "full_emissions_df['Anthropogenic GHG Inventory'] = ghg_california_emissions_carb"
   ]
  },
  {
   "cell_type": "markdown",
   "metadata": {},
   "source": [
    "Then add in CARB's fire estimates from https://ww3.arb.ca.gov/cc/inventory/pubs/ghg_emissions_forest_management_webinar_slides.pdf"
   ]
  },
  {
   "cell_type": "code",
   "execution_count": 25,
   "metadata": {},
   "outputs": [],
   "source": [
    "#full_emissions_df['Fires - CARB'] = \n",
    "carb_fire = pd.read_csv('{}/digitized_carb_fire_emissions.csv'.format(work_dir),\n",
    "            header=None)\n",
    "carb_fire = pd.Series(carb_fire[1].values, index=pd.date_range('2000', '2020', freq='Y'))\n",
    "full_emissions_df['Fire (CARB)'] = carb_fire"
   ]
  },
  {
   "cell_type": "markdown",
   "metadata": {},
   "source": [
    "Then load in the carbon stock info from NWL inventory"
   ]
  },
  {
   "cell_type": "code",
   "execution_count": 26,
   "metadata": {},
   "outputs": [],
   "source": [
    "# Load in the ts of stocks (which is in units of MMT C)\n",
    "# CARB definition for Forests and Other Natural Lands (FONL) includes dead organic matter (DOM)\n",
    "\n",
    "\n",
    "carb_fonl_stocks = pd.read_csv('{}/carb_fonl_stocks.csv'.format(work_dir), header=None)\n",
    "dates = ['2001-12-31', '2010-12-31', '2012-12-31', '2014-12-31']\n",
    "index = pd.to_datetime(dates, format='%Y-%m-%S')\n",
    "idx = pd.date_range('2002', '2014', freq='Y')\n",
    "\n",
    "carb_fonl_stocks = pd.Series(carb_fonl_stocks[1].values, index=index) * C_TO_CO2_CONVERSION\n",
    "# Interpolate to gapfill and then do delta to calculate the loss in stock in that year\n",
    "# and turn it negative since we'll be treating lost stock to be an emission\n",
    "carb_fonl_stock_emissions = -carb_fonl_stocks.resample('A').sum().replace({0:np.nan}).interpolate().diff()"
   ]
  },
  {
   "cell_type": "markdown",
   "metadata": {},
   "source": [
    "We also have an estimate from Holland et al (2019) which says that forests sequestered (net) XX MMT over a ten year period. Let's assume that becomes a X.X MMT/year constant value for comparison's sake."
   ]
  },
  {
   "cell_type": "code",
   "execution_count": 27,
   "metadata": {},
   "outputs": [],
   "source": [
    "# full_emissions_df['Net (Holland et al 2019)'] = X.X"
   ]
  },
  {
   "cell_type": "code",
   "execution_count": 28,
   "metadata": {},
   "outputs": [],
   "source": [
    "#full_emissions_df['CARB Stock Emisisons'] = carb_fonl_stock_emissions\n",
    "# and then (just as a guess- this could be suspect) we can estimate \"sequestration\" by removing fire\n",
    "# full_emissions_df['Sequestration (CARB)'] = full_emissions_df['Net (Holland et al 2019)'] - full_emissions_df['Fire (CARB)']"
   ]
  },
  {
   "cell_type": "markdown",
   "metadata": {},
   "source": [
    "Let's first just write out a df with just the variables for the blog post we're considering right now. Jeremy will use this to make a nice set of initial figures."
   ]
  },
  {
   "cell_type": "code",
   "execution_count": 29,
   "metadata": {},
   "outputs": [],
   "source": [
    "full_emissions_df.to_csv('{}/emissions.csv'.format(work_dir))"
   ]
  },
  {
   "cell_type": "code",
   "execution_count": 40,
   "metadata": {},
   "outputs": [
    {
     "data": {
      "text/plain": [
       "Text(0, 0.5, 'CO2 Emissions [MMT]')"
      ]
     },
     "execution_count": 40,
     "metadata": {},
     "output_type": "execute_result"
    },
    {
     "data": {
      "image/png": "[encoded data removed]",
      "text/plain": [
       "<Figure size 432x288 with 1 Axes>"
      ]
     },
     "metadata": {
      "needs_background": "light"
     },
     "output_type": "display_data"
    }
   ],
   "source": [
    "full_emissions_df[[\n",
    "                'Anthropogenic GHG Inventory',\n",
    "                  ]].plot()\n",
    "plt.axhline(431, color='k', label='AB32 2020 Limit')\n",
    "plt.legend()\n",
    "plt.ylabel('CO2 Emissions [MMT]')"
   ]
  },
  {
   "cell_type": "code",
   "execution_count": 42,
   "metadata": {},
   "outputs": [
    {
     "data": {
      "text/plain": [
       "(0.0, 494.21999999999997)"
      ]
     },
     "execution_count": 42,
     "metadata": {},
     "output_type": "execute_result"
    },
    {
     "data": {
      "image/png": "[encoded data removed]",
      "text/plain": [
       "<Figure size 432x288 with 1 Axes>"
      ]
     },
     "metadata": {
      "needs_background": "light"
     },
     "output_type": "display_data"
    }
   ],
   "source": [
    "full_emissions_df[[\n",
    "                'Anthropogenic GHG Inventory',\n",
    "                  ]].plot()\n",
    "plt.axhline(431, color='k', label='AB32 2020 Limit')\n",
    "plt.ylabel('CO2 Emissions [MMT]')\n",
    "plt.legend()\n",
    "plt.ylim(0)"
   ]
  },
  {
   "cell_type": "code",
   "execution_count": 43,
   "metadata": {},
   "outputs": [
    {
     "data": {
      "text/plain": [
       "Text(0, 0.5, 'CO2 Emissions [MMT]')"
      ]
     },
     "execution_count": 43,
     "metadata": {},
     "output_type": "execute_result"
    },
    {
     "data": {
      "image/png": "[encoded data removed]",
      "text/plain": [
       "<Figure size 432x288 with 1 Axes>"
      ]
     },
     "metadata": {
      "needs_background": "light"
     },
     "output_type": "display_data"
    }
   ],
   "source": [
    "full_emissions_df[[\n",
    "                'Fire (CARB)',\n",
    "                'Fire (GFED)'\n",
    "                  ]].plot()\n",
    "plt.ylabel('CO2 Emissions [MMT]')"
   ]
  },
  {
   "cell_type": "code",
   "execution_count": null,
   "metadata": {},
   "outputs": [],
   "source": []
  }
 ],
 "metadata": {
  "kernelspec": {
   "display_name": "Python [conda env:notebook] *",
   "language": "python",
   "name": "conda-env-notebook-py"
  },
  "language_info": {
   "codemirror_mode": {
    "name": "ipython",
    "version": 3
   },
   "file_extension": ".py",
   "mimetype": "text/x-python",
   "name": "python",
   "nbconvert_exporter": "python",
   "pygments_lexer": "ipython3",
   "version": "3.7.8"
  }
 },
 "nbformat": 4,
 "nbformat_minor": 4
}
