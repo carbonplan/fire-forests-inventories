{
 "cells": [
  {
   "cell_type": "markdown",
   "metadata": {},
   "source": [
    "# NWL Fire Emissions Article\n",
    "### Analysis of emissions due to fires and comparison with carbon flux estimates from literature\n",
    "By Oriana Chegwidden"
   ]
  },
  {
   "cell_type": "code",
   "execution_count": 5,
   "metadata": {},
   "outputs": [],
   "source": [
    "import matplotlib.pyplot as plt\n",
    "import xarray as xr\n",
    "import regionmask\n",
    "\n",
    "import numpy as np\n",
    "import h5py\n",
    "import fsspec\n",
    "import pandas as pd\n",
    "from tqdm import tqdm\n",
    "C_TO_CO2_CONVERSION = 3.66\n",
    "import json\n",
    "import gcsfs\n",
    "import numcodecs\n",
    "from gfed import return_gfed_emissions\n",
    "# Update this to where you're working!\n",
    "work_dir = '/home/jovyan/blogposts/nwl-california-forests/analyses/'"
   ]
  },
  {
   "cell_type": "markdown",
   "metadata": {},
   "source": [
    "# Calculate fire emissions based on GFED"
   ]
  },
  {
   "cell_type": "code",
   "execution_count": 12,
   "metadata": {},
   "outputs": [
    {
     "name": "stderr",
     "output_type": "stream",
     "text": [
      "  0%|          | 0/22 [00:00<?, ?it/s]/srv/conda/envs/notebook/lib/python3.8/site-packages/regionmask/core/regions.py:410: ShapelyDeprecationWarning: Iteration over multi-part geometries is deprecated and will be removed in Shapely 2.0. Use the `geoms` property to access the constituent parts of a multi-part geometry.\n",
      "  for p in poly:\n",
      "100%|██████████| 22/22 [02:15<00:00,  6.16s/it]\n"
     ]
    }
   ],
   "source": [
    "CO2_df, full_ds = return_gfed_emissions(start_year=2000, end_year=2021, return_spatial=True)"
   ]
  },
  {
   "cell_type": "code",
   "execution_count": 70,
   "metadata": {},
   "outputs": [],
   "source": [
    "write_spatial=False\n",
    "if write_spatial:\n",
    "    storage_options = {'verify_ssl': False}\n",
    "    fs = gcsfs.GCSFileSystem()\n",
    "    cloud_bucket = 'gs://carbonplan-nwl'\n",
    "    encoding = {'emissions MMT CO2/year': {'compressor': numcodecs.Blosc()}}\n",
    "    store = fsspec.get_mapper(cloud_bucket+'/data/GFED_annual_emissions_CO2.zarr')\n",
    "#     store = gcsfs.GCSFileSystem.get_mapper(root=cloud_bucket+'/data/GFED_emissions.zarr')\n",
    "    full_ds.to_zarr(store, mode='w', encoding=encoding)"
   ]
  },
  {
   "cell_type": "code",
   "execution_count": null,
   "metadata": {},
   "outputs": [],
   "source": [
    "def date_format(date):\n",
    "    \"\"\"\n",
    "    Convert time label to the format of pandas line plot\n",
    "    \"\"\"\n",
    "    return f'{date.year}'"
   ]
  },
  {
   "cell_type": "markdown",
   "metadata": {},
   "source": [
    "# Total greenhouse gas emisisons from California Air Resources Board"
   ]
  },
  {
   "cell_type": "markdown",
   "metadata": {},
   "source": [
    "Load in CARB GHG Emissions Inventory from https://ww3.arb.ca.gov/cc/inventory/pubs/reports/2000_2018/ghg_inventory_trends_00-18.pdf"
   ]
  },
  {
   "cell_type": "code",
   "execution_count": 13,
   "metadata": {},
   "outputs": [],
   "source": [
    "ghg_california_emissions_carb = pd.read_excel('{}/2000_2019_ghg_inventory_trends_figures.xlsx'.format(work_dir))\n",
    "ghg_california_emissions_carb = pd.Series(list(ghg_california_emissions_carb.loc[4].values[2:]), \n",
    "                                          index=pd.date_range('2000','2020',freq='Y'))"
   ]
  },
  {
   "cell_type": "markdown",
   "metadata": {},
   "source": [
    "# Collate the greenhouse gas and fire emissions estimates"
   ]
  },
  {
   "cell_type": "markdown",
   "metadata": {},
   "source": [
    "Initialize the dataframe with fires."
   ]
  },
  {
   "cell_type": "code",
   "execution_count": 14,
   "metadata": {},
   "outputs": [],
   "source": [
    "full_emissions_df = pd.DataFrame(CO2_df, columns=['Fire (GFED)'])"
   ]
  },
  {
   "cell_type": "markdown",
   "metadata": {},
   "source": [
    "Since 2019 is the most recent year for which we have GHG estimates we'll just assume the emissions for 2020-2021 were the same as 2019. We know that this assumption has error, largely due to the COVID-19 pandemic, but these numbers will largely be used for illustrative purposes and do not expect any updates to change the overall story."
   ]
  },
  {
   "cell_type": "code",
   "execution_count": 15,
   "metadata": {},
   "outputs": [],
   "source": [
    "full_emissions_df['Anthropogenic GHG Inventory'] = ghg_california_emissions_carb"
   ]
  },
  {
   "cell_type": "markdown",
   "metadata": {},
   "source": [
    "Forward fill 2020 and 2021 with 2019 estimates for GHG inventory"
   ]
  },
  {
   "cell_type": "code",
   "execution_count": 16,
   "metadata": {},
   "outputs": [],
   "source": [
    "full_emissions_df.iloc[-1, 1] = full_emissions_df.iloc[-3, 1]\n",
    "full_emissions_df.iloc[-2, 1] = full_emissions_df.iloc[-3, 1]"
   ]
  },
  {
   "cell_type": "markdown",
   "metadata": {},
   "source": [
    "Then add in CARB's fire estimates from CARB's _Wildfire Emission Estimates for 2020_. See also https://ww3.arb.ca.gov/cc/inventory/pubs/ghg_emissions_forest_management_webinar_slides.pdf"
   ]
  },
  {
   "cell_type": "code",
   "execution_count": 17,
   "metadata": {},
   "outputs": [],
   "source": [
    "carb_fire = pd.read_csv('{}/carb_wildfire_estimates_2020.txt'.format(work_dir),\\\n",
    "            header=None)\n",
    "carb_fire = pd.Series(carb_fire[1].values, index=pd.date_range('2000', '2021', freq='Y'))\n",
    "full_emissions_df['Fire (CARB)'] = carb_fire"
   ]
  },
  {
   "cell_type": "code",
   "execution_count": 18,
   "metadata": {},
   "outputs": [
    {
     "data": {
      "text/html": [
       "<div>\n",
       "<style scoped>\n",
       "    .dataframe tbody tr th:only-of-type {\n",
       "        vertical-align: middle;\n",
       "    }\n",
       "\n",
       "    .dataframe tbody tr th {\n",
       "        vertical-align: top;\n",
       "    }\n",
       "\n",
       "    .dataframe thead th {\n",
       "        text-align: right;\n",
       "    }\n",
       "</style>\n",
       "<table border=\"1\" class=\"dataframe\">\n",
       "  <thead>\n",
       "    <tr style=\"text-align: right;\">\n",
       "      <th></th>\n",
       "      <th>Fire (GFED)</th>\n",
       "      <th>Anthropogenic GHG Inventory</th>\n",
       "      <th>Fire (CARB)</th>\n",
       "    </tr>\n",
       "  </thead>\n",
       "  <tbody>\n",
       "    <tr>\n",
       "      <th>2000-12-31</th>\n",
       "      <td>6.571791</td>\n",
       "      <td>468.0</td>\n",
       "      <td>5.4</td>\n",
       "    </tr>\n",
       "    <tr>\n",
       "      <th>2001-12-31</th>\n",
       "      <td>6.057294</td>\n",
       "      <td>483.1</td>\n",
       "      <td>6.2</td>\n",
       "    </tr>\n",
       "    <tr>\n",
       "      <th>2002-12-31</th>\n",
       "      <td>6.971701</td>\n",
       "      <td>482.7</td>\n",
       "      <td>13.5</td>\n",
       "    </tr>\n",
       "    <tr>\n",
       "      <th>2003-12-31</th>\n",
       "      <td>7.649050</td>\n",
       "      <td>482.8</td>\n",
       "      <td>18.3</td>\n",
       "    </tr>\n",
       "    <tr>\n",
       "      <th>2004-12-31</th>\n",
       "      <td>5.993434</td>\n",
       "      <td>490.8</td>\n",
       "      <td>5.2</td>\n",
       "    </tr>\n",
       "  </tbody>\n",
       "</table>\n",
       "</div>"
      ],
      "text/plain": [
       "            Fire (GFED)  Anthropogenic GHG Inventory  Fire (CARB)\n",
       "2000-12-31     6.571791                        468.0          5.4\n",
       "2001-12-31     6.057294                        483.1          6.2\n",
       "2002-12-31     6.971701                        482.7         13.5\n",
       "2003-12-31     7.649050                        482.8         18.3\n",
       "2004-12-31     5.993434                        490.8          5.2"
      ]
     },
     "execution_count": 18,
     "metadata": {},
     "output_type": "execute_result"
    }
   ],
   "source": [
    "full_emissions_df.head()"
   ]
  },
  {
   "cell_type": "markdown",
   "metadata": {},
   "source": [
    "Then load in the carbon stock info from NWL inventory"
   ]
  },
  {
   "cell_type": "code",
   "execution_count": 19,
   "metadata": {},
   "outputs": [],
   "source": [
    "# # Load in the ts of stocks (which is in units of MMT C)\n",
    "# # CARB definition for Forests and Other Natural Lands (FONL) includes dead organic matter (DOM)\n",
    "\n",
    "\n",
    "# carb_fonl_stocks = pd.read_csv('{}/carb_fonl_stocks.csv'.format(work_dir), header=None)\n",
    "# dates = ['2001-12-31', '2010-12-31', '2012-12-31', '2014-12-31']\n",
    "# index = pd.to_datetime(dates, format='%Y-%m-%S')\n",
    "# idx = pd.date_range('2002', '2014', freq='Y')\n",
    "\n",
    "# carb_fonl_stocks = pd.Series(carb_fonl_stocks[1].values, index=index) * C_TO_CO2_CONVERSION\n",
    "# # Interpolate to gapfill and then do delta to calculate the loss in stock in that year\n",
    "# # and turn it negative since we'll be treating lost stock to be an emission\n",
    "# carb_fonl_stock_emissions = -carb_fonl_stocks.resample('A').sum().replace({0:np.nan}).interpolate().diff()"
   ]
  },
  {
   "cell_type": "markdown",
   "metadata": {},
   "source": [
    "We also have an estimate from Holland et al (2019) which says that forests sequestered (net) XX MMT over a ten year period. Let's assume that becomes a X.X MMT/year constant value for comparison's sake."
   ]
  },
  {
   "cell_type": "code",
   "execution_count": 20,
   "metadata": {},
   "outputs": [],
   "source": [
    "# full_emissions_df['Net (Holland et al 2019)'] = X.X"
   ]
  },
  {
   "cell_type": "code",
   "execution_count": 21,
   "metadata": {},
   "outputs": [],
   "source": [
    "#full_emissions_df['CARB Stock Emisisons'] = carb_fonl_stock_emissions\n",
    "# and then (just as a guess- this could be suspect) we can estimate \"sequestration\" by removing fire\n",
    "# full_emissions_df['Sequestration (CARB)'] = full_emissions_df['Net (Holland et al 2019)'] - full_emissions_df['Fire (CARB)']"
   ]
  },
  {
   "cell_type": "markdown",
   "metadata": {},
   "source": [
    "Let's first just write out a df with just the variables for the blog post we're considering right now. Jeremy will use this to make a nice set of initial figures."
   ]
  },
  {
   "cell_type": "code",
   "execution_count": 21,
   "metadata": {},
   "outputs": [],
   "source": [
    "full_emissions_df.to_csv('{}/emissions.csv'.format(work_dir))"
   ]
  },
  {
   "cell_type": "markdown",
   "metadata": {},
   "source": [
    "# Figure 1: How do California's GHG emissions compare to their 2020 target set by AB32 (431 MMT CO2)"
   ]
  },
  {
   "cell_type": "code",
   "execution_count": 22,
   "metadata": {},
   "outputs": [
    {
     "data": {
      "text/plain": [
       "Text(0, 0.5, 'CO2 Emissions [MMT]')"
      ]
     },
     "execution_count": 22,
     "metadata": {},
     "output_type": "execute_result"
    },
    {
     "data": {
      "image/png": "[encoded data removed]",
      "text/plain": [
       "<Figure size 432x288 with 1 Axes>"
      ]
     },
     "metadata": {
      "needs_background": "light"
     },
     "output_type": "display_data"
    }
   ],
   "source": [
    "full_emissions_df[[\n",
    "                'Anthropogenic GHG Inventory',\n",
    "                  ]].plot()\n",
    "plt.axhline(431, color='k', label='AB32 2020 Limit')\n",
    "plt.legend()\n",
    "plt.ylabel('CO2 Emissions [MMT]')"
   ]
  },
  {
   "cell_type": "markdown",
   "metadata": {},
   "source": [
    "From the above plot it might like a big reduction in emissions but if we zero-out the y-axis we see that emissions reductions aren't that significant percentage-wise."
   ]
  },
  {
   "cell_type": "code",
   "execution_count": 23,
   "metadata": {},
   "outputs": [
    {
     "data": {
      "text/plain": [
       "(0.0, 494.43)"
      ]
     },
     "execution_count": 23,
     "metadata": {},
     "output_type": "execute_result"
    },
    {
     "data": {
      "image/png": "[encoded data removed]",
      "text/plain": [
       "<Figure size 432x288 with 1 Axes>"
      ]
     },
     "metadata": {
      "needs_background": "light"
     },
     "output_type": "display_data"
    }
   ],
   "source": [
    "full_emissions_df[[\n",
    "                'Anthropogenic GHG Inventory',\n",
    "                  ]].plot()\n",
    "plt.axhline(431, color='k', label='AB32 2020 Limit')\n",
    "plt.ylabel('CO2 Emissions [MMT]')\n",
    "plt.legend()\n",
    "plt.ylim(0)"
   ]
  },
  {
   "cell_type": "markdown",
   "metadata": {},
   "source": [
    "We'll write out these numbers to creat our web article."
   ]
  },
  {
   "cell_type": "code",
   "execution_count": 23,
   "metadata": {},
   "outputs": [],
   "source": [
    "figure1_json = {}\n",
    "figure1_json['ghg_inventory'] = np.array([full_emissions_df.index.year.values, \n",
    "                  full_emissions_df[['Anthropogenic GHG Inventory']].values.squeeze()]).transpose().tolist()\n",
    "figure1_json['AB32'] = 431 # The target for \n",
    "with open('figure1.json', \"w\") as outfile:\n",
    "    json.dump(figure1_json, outfile)"
   ]
  },
  {
   "cell_type": "markdown",
   "metadata": {},
   "source": [
    "# Figure 2: What about fire emissions? \n",
    "\n",
    "What do fire emissions look like over time? CARB provides estimates, but they haven't yet released 2021's estimates. Let's use GFED to get a preview. And along the way, let's compare the estimates to see how they might differ."
   ]
  },
  {
   "cell_type": "code",
   "execution_count": 25,
   "metadata": {},
   "outputs": [
    {
     "data": {
      "text/plain": [
       "Text(0, 0.5, 'CO2 Emissions [MMT]')"
      ]
     },
     "execution_count": 25,
     "metadata": {},
     "output_type": "execute_result"
    },
    {
     "data": {
      "image/png": "[encoded data removed]",
      "text/plain": [
       "<Figure size 432x288 with 1 Axes>"
      ]
     },
     "metadata": {
      "needs_background": "light"
     },
     "output_type": "display_data"
    }
   ],
   "source": [
    "fig, ax = plt.subplots()\n",
    "full_emissions_df[[\n",
    "                'Fire (CARB)',\n",
    "                'Fire (GFED)'\n",
    "                  ]].plot(ax=ax)\n",
    "# plt.text(0.04, 0.76, '*Note 2021 GFED estimates for Jan-Sep', transform=ax.transAxes)\n",
    "plt.ylabel('CO2 Emissions [MMT]')"
   ]
  },
  {
   "cell_type": "markdown",
   "metadata": {},
   "source": [
    "And let's write out those numbers to JSON"
   ]
  },
  {
   "cell_type": "code",
   "execution_count": 72,
   "metadata": {},
   "outputs": [],
   "source": [
    "figure2_json = {}\n",
    "for dataset in ['Fire (CARB)', 'Fire (GFED)']:\n",
    "    figure2_json[dataset] = np.array([full_emissions_df.index.year.values, \n",
    "                  full_emissions_df[[dataset]].values.squeeze()]).transpose().tolist()\n",
    "with open('figure2.json', \"w\") as outfile:\n",
    "    json.dump(figure2_json, outfile)"
   ]
  },
  {
   "cell_type": "code",
   "execution_count": 103,
   "metadata": {},
   "outputs": [],
   "source": [
    "# copernicus = pd.Series([14.3, 5.8, 4, 13.6, 18.2, 10.9, 8.6, 2.9, \n",
    "# 3.5, 11.3, 9.2, 10.1, 16.1, 13.4, 17.8, 14.7, 5, 41.8], index=pd.date_range('2003', '2021', freq='Y'))"
   ]
  },
  {
   "cell_type": "code",
   "execution_count": 104,
   "metadata": {},
   "outputs": [],
   "source": [
    "# full_emissions_df['Copernicus'] = copernicus * C_TO_CO2_CONVERSION"
   ]
  },
  {
   "cell_type": "code",
   "execution_count": 13,
   "metadata": {},
   "outputs": [],
   "source": [
    "# full_emissions_df[[\n",
    "#                 'Fire (CARB)',\n",
    "#                 'Fire (GFED)',\n",
    "#     'Copernicus'\n",
    "#                   ]].plot()\n",
    "# plt.ylabel('CO2 Emissions [MMT]')"
   ]
  },
  {
   "cell_type": "markdown",
   "metadata": {},
   "source": [
    "Now let's do some accounting calculations. This is just going to be a handful of numbers but I _promise_ it's going to be really interesting."
   ]
  },
  {
   "cell_type": "code",
   "execution_count": 2,
   "metadata": {},
   "outputs": [
    {
     "data": {
      "text/plain": [
       "4.761904761904762"
      ]
     },
     "execution_count": 2,
     "metadata": {},
     "output_type": "execute_result"
    }
   ],
   "source": [
    "50/10.5"
   ]
  },
  {
   "cell_type": "markdown",
   "metadata": {},
   "source": [
    "First we initialize our different time periods that we'll average over."
   ]
  },
  {
   "cell_type": "markdown",
   "metadata": {},
   "source": [
    "Then we'll grab the different AGC estimates from the literature. This is all laid out really nicely in the Holland et al (2019) paper."
   ]
  },
  {
   "cell_type": "markdown",
   "metadata": {},
   "source": [
    "# Calculating the appropriate time periods to match the estimates in the literature"
   ]
  },
  {
   "cell_type": "markdown",
   "metadata": {},
   "source": [
    "Calculating emissions based upon annual timeseries and differences between multiyear averages are different methods. Thus, it can be tricky to align annual emissions timeseries with emissions calculated based upon stock-difference approaches from multiyear averages of FIA data. Based upon understandings of FIA inventory approaches we will assume that fluxes calculated by comparing inventories from two periods, (start1-start2) and (end1-end2) will be representative of average fluxes from (start2-end2) exclusive. We spell out the details of those assumptions below."
   ]
  },
  {
   "cell_type": "markdown",
   "metadata": {},
   "source": [
    "Confusing things to tease apart:\n",
    "* what pools\n",
    "* what time periods\n",
    "* what fire\n",
    "time period alignment: \n",
    "* if FIA period sampling - sampling time period (start_year - end_year) we assume the end_year is the year it is representative of. conceptually, we can say that if a fire went through in an earlier year we would have captured that loss in carbon.\n",
    "* now we have a year0 and year1 for stock change estimates.\n",
    "* in aligning the stock change estimates with fire emissions we use emissions from the years after that time period ends. as an example, christensen et al 2001-2011 carbon flux estimates we'll align with fires 2002-2011 inclusive.\n",
    "* for gonzalex et al it is more simple example since they use landfire- their time periods are 2001-2010\n"
   ]
  },
  {
   "cell_type": "markdown",
   "metadata": {},
   "source": [
    "To clarify:\n",
    "* try to conform to only forests, use all of the different options (ex: all NWL from christensen, gonzalez et al - trees only?)\n",
    "* include all NWL # from holland et al -leaning toward no because its a composite of other datasets and time periods get super tricky\n",
    "* time periods: christensen use 2006-2015 for the (2001-2005) and (2011-2015) estimates. \n",
    "* gonzalez paper says 2001-2010 is 9 years but holland et al divides by 10 to get annualized estimates"
   ]
  },
  {
   "cell_type": "markdown",
   "metadata": {},
   "source": [
    "# Collate estimates from the literature"
   ]
  },
  {
   "cell_type": "markdown",
   "metadata": {},
   "source": [
    "The literature includes a range of estimates of forest carbon fluxes. Here we collect them, note their provenance, keep track of the time periods which they cover, and note any nuances for each data source."
   ]
  },
  {
   "cell_type": "markdown",
   "metadata": {},
   "source": [
    "### AB 1504 California Forest Ecosystem and Harvested Wood Product Carbon Inventory"
   ]
  },
  {
   "cell_type": "markdown",
   "metadata": {},
   "source": [
    "First, estimates from Christensen et al. _AB 1504 California Forest Ecosystem and Harvested Wood Product Carbon Inventory: 2017 Reporting Period. Final Report._ Febraury 13, 2019.\n",
    "    \n",
    "The estimates below are in MMT CO2e and do not include contributions from the harvested wood products. They released updated these numbers twice with additional reports (releasing reports in 2015, 2016, and 2017). Holland et al (described below) reference the numbers from the 2015 report."
   ]
  },
  {
   "cell_type": "code",
   "execution_count": 1,
   "metadata": {},
   "outputs": [],
   "source": [
    "christensen = {\n",
    "              '2015': 32.8, #+-5.5 MMT CO2e\n",
    "              '2016': 30.7, #+-5.3 MMT CO2e\n",
    "              '2017': 27. #+-5.5MMT CO2e}\n",
    "              }"
   ]
  },
  {
   "cell_type": "markdown",
   "metadata": {},
   "source": [
    "We can look at the numbers in MMT of C as well. "
   ]
  },
  {
   "cell_type": "code",
   "execution_count": 5,
   "metadata": {},
   "outputs": [
    {
     "name": "stdout",
     "output_type": "stream",
     "text": [
      "In 2015 the estimated carbon update was 8.96174863387978 MMT C\n",
      "In 2016 the estimated carbon update was 8.387978142076502 MMT C\n",
      "In 2017 the estimated carbon update was 7.377049180327869 MMT C\n"
     ]
    }
   ],
   "source": [
    "for year, co2 in christensen.items():\n",
    "    print(f'In {year} the estimated carbon update was {co2/C_TO_CO2_CONVERSION} MMT C')"
   ]
  },
  {
   "cell_type": "code",
   "execution_count": 3,
   "metadata": {},
   "outputs": [
    {
     "data": {
      "text/plain": [
       "3.66"
      ]
     },
     "execution_count": 3,
     "metadata": {},
     "output_type": "execute_result"
    }
   ],
   "source": []
  },
  {
   "cell_type": "markdown",
   "metadata": {},
   "source": [
    "grayson comment - Would it be at all useful to report the whole period sequestration vs whole period fire emission? So you could do 29.2 MMTCO2 * nyears and compare that to the sum of GFED emissions. In other words 2021 has already undone ~5 years of carbon sequestration. 2020 undid something like six years?"
   ]
  },
  {
   "cell_type": "code",
   "execution_count": 37,
   "metadata": {},
   "outputs": [],
   "source": [
    "# all slices here are INCLUSIVE\n",
    "net_options = {\n",
    "#                     'holland_et_al_2019_single_years': {'value': -6.3,\n",
    "#                                                       'range': slice('2002', '2011')}, # single years (10 years) \n",
    "                    'holland_et_al_2019_periods': {'value': -4.5,\n",
    "                                                   'range': slice('2007', '2016')}, # periods (10 years)- this is the number they go with at the end\n",
    "#                         'holland_et_al_2019_allNWL': {'value': -2.7,\n",
    "#                                                       'range': slice('2001', '2010')}, # calculated for (2001-2005) to (2011-2015)\n",
    "                      'gonzalez_et_al_2015': {'value': -4.8, # trees only # also available: wildland ecosystems (-6.9), trees and shrubland (-7.1)\n",
    "                                                      'range': slice('2002', '2010')}, # all land excluding crops and settlements\n",
    "                      'carb_2015': {'value': -6.5, # AB1504 2015 estimate for standing live tree\n",
    "                                                 # \n",
    "                                                 'range': slice('2006', '2015')},\n",
    "#                           'carb_2016': {'value': -22.285/C_TO_CO2_CONVERSION, # AB1504 2016 estimate for standing live tree\n",
    "#                                                  # \n",
    "#                                                  'range': slice('2007', '2016')},\n",
    "#                               'carb_2017': {'value': -14.847/C_TO_CO2_CONVERSION, # AB1504 2015 estimate for standing live tree\n",
    "#                                                  # \n",
    "#                                                  'range': slice('2008', '2017')},\n",
    "# *** 2018 report seems to have typos - don't know if it's actually 2019?\n",
    "                              'carb_2019': {'value': -13.091/C_TO_CO2_CONVERSION, # AB1504 2015 estimate for standing live tree\n",
    "                                                 # \n",
    "                                                 'range': slice('2010', '2019')},\n",
    "                        \n",
    "#                     'AB_1504': {'value': -7.98, # -29.2 / C_TO_CO2_CONVERSION\n",
    "#                                 'range': slice('2004', '2014')} # (plots measured (2001-2007) compared to (2011-2017)\n",
    "                      }"
   ]
  },
  {
   "cell_type": "code",
   "execution_count": 7,
   "metadata": {},
   "outputs": [],
   "source": [
    "net_options_json = {\n",
    "                    'holland_et_al_2019_periods': {'value': -4.5 * C_TO_CO2_CONVERSION,\n",
    "                                                      'range': [2007,2016]},\n",
    "                      'gonzalez_et_al_2015': {'value': 4.8 * C_TO_CO2_CONVERSION,\n",
    "                                                      'range': [2002,2010]}, # all land excluding crops and settlements\n",
    "                      'ab1504_2015': {'value': -6.5 * C_TO_CO2_CONVERSION, \n",
    "                                                 'range': [2006,2015]},# they only did trees so it's a little hard to compare\n",
    "                    'ab1504_2019': {'value': -3.58 * C_TO_CO2_CONVERSION, # -13.091/C_TO_CO2_CONVERSION\n",
    "                                'range': [2010,2019]} # (plots measured (2001-2007) compared to (2011-2017)\n",
    "                      }"
   ]
  },
  {
   "cell_type": "code",
   "execution_count": 9,
   "metadata": {},
   "outputs": [
    {
     "data": {
      "text/plain": [
       "{'holland_et_al_2019_periods': {'value': -16.47, 'range': [2007, 2016]},\n",
       " 'gonzalez_et_al_2015': {'value': 17.568, 'range': [2002, 2010]},\n",
       " 'ab1504_2015': {'value': -23.79, 'range': [2006, 2015]},\n",
       " 'ab1504_2019': {'value': -13.1028, 'range': [2010, 2019]}}"
      ]
     },
     "execution_count": 9,
     "metadata": {},
     "output_type": "execute_result"
    }
   ],
   "source": [
    "net_options_json"
   ]
  },
  {
   "cell_type": "code",
   "execution_count": 31,
   "metadata": {},
   "outputs": [],
   "source": [
    "# net_options_json = {\n",
    "#                     'holland_et_al_2019_forestonly': {'value': -4.5,\n",
    "#                                                       'range': [2004,2014]},\n",
    "#                         'holland_et_al_2019_allNWL': {'value': -2.7,\n",
    "#                                                       'range': [2001,2010]},# calculated for (2001-2005) to (2011-2015)\n",
    "#                       'gonzalez_et_al_2015': {'value': 6.9,\n",
    "#                                                       'range': [2001,2010]}, # all land excluding crops and settlements\n",
    "#                       'christensen_et_al_2017': {'value': -6.5, \n",
    "#                                                  'range': [2006,2015]},# they only did trees so it's a little hard to compare\n",
    "#                     'AB_1504': {'value': -7.98, # -29.2 / C_TO_CO2_CONVERSION\n",
    "#                                 'range': [2004,2014]} # (plots measured (2001-2007) compared to (2011-2017)\n",
    "#                       }"
   ]
  },
  {
   "cell_type": "code",
   "execution_count": 8,
   "metadata": {},
   "outputs": [],
   "source": [
    "with open('figure3.json', \"w\") as outfile:\n",
    "    json.dump(net_options_json, outfile)"
   ]
  },
  {
   "cell_type": "code",
   "execution_count": 6,
   "metadata": {},
   "outputs": [],
   "source": [
    "with open('figure3.json', \"r\") as outfile:\n",
    "    ds = json.load(outfile)"
   ]
  },
  {
   "cell_type": "code",
   "execution_count": 13,
   "metadata": {},
   "outputs": [
    {
     "ename": "NameError",
     "evalue": "name 'figure2_json' is not defined",
     "output_type": "error",
     "traceback": [
      "\u001b[0;31m---------------------------------------------------------------------------\u001b[0m",
      "\u001b[0;31mNameError\u001b[0m                                 Traceback (most recent call last)",
      "\u001b[0;32m<ipython-input-13-cb1eca1d6089>\u001b[0m in \u001b[0;36m<module>\u001b[0;34m\u001b[0m\n\u001b[1;32m      4\u001b[0m     \u001b[0mnet_effects\u001b[0m\u001b[0;34m.\u001b[0m\u001b[0mappend\u001b[0m\u001b[0;34m(\u001b[0m\u001b[0;34m[\u001b[0m\u001b[0mnet_citation\u001b[0m\u001b[0;34m,\u001b[0m \u001b[0mnet_value\u001b[0m \u001b[0;34m*\u001b[0m \u001b[0mC_TO_CO2_CONVERSION\u001b[0m\u001b[0;34m]\u001b[0m\u001b[0;34m)\u001b[0m\u001b[0;34m\u001b[0m\u001b[0;34m\u001b[0m\u001b[0m\n\u001b[1;32m      5\u001b[0m \u001b[0mfigure3_json\u001b[0m\u001b[0;34m[\u001b[0m\u001b[0;34m'net effect options'\u001b[0m\u001b[0;34m]\u001b[0m \u001b[0;34m=\u001b[0m \u001b[0mnet_effects\u001b[0m\u001b[0;34m\u001b[0m\u001b[0;34m\u001b[0m\u001b[0m\n\u001b[0;32m----> 6\u001b[0;31m \u001b[0mfigure3_json\u001b[0m\u001b[0;34m[\u001b[0m\u001b[0;34m'fire effect options'\u001b[0m\u001b[0;34m]\u001b[0m \u001b[0;34m=\u001b[0m \u001b[0mfigure2_json\u001b[0m\u001b[0;34m\u001b[0m\u001b[0;34m\u001b[0m\u001b[0m\n\u001b[0m\u001b[1;32m      7\u001b[0m \u001b[0;32mwith\u001b[0m \u001b[0mopen\u001b[0m\u001b[0;34m(\u001b[0m\u001b[0;34m'figure3.json'\u001b[0m\u001b[0;34m,\u001b[0m \u001b[0;34m\"w\"\u001b[0m\u001b[0;34m)\u001b[0m \u001b[0;32mas\u001b[0m \u001b[0moutfile\u001b[0m\u001b[0;34m:\u001b[0m\u001b[0;34m\u001b[0m\u001b[0;34m\u001b[0m\u001b[0m\n\u001b[1;32m      8\u001b[0m     \u001b[0mjson\u001b[0m\u001b[0;34m.\u001b[0m\u001b[0mdump\u001b[0m\u001b[0;34m(\u001b[0m\u001b[0mfigure3_json\u001b[0m\u001b[0;34m,\u001b[0m \u001b[0moutfile\u001b[0m\u001b[0;34m)\u001b[0m\u001b[0;34m\u001b[0m\u001b[0;34m\u001b[0m\u001b[0m\n",
      "\u001b[0;31mNameError\u001b[0m: name 'figure2_json' is not defined"
     ]
    }
   ],
   "source": [
    "figure3_json = {}\n",
    "net_effects = []\n",
    "for net_citation, net_value in net_options.items():\n",
    "    net_effects.append([net_citation, net_value * C_TO_CO2_CONVERSION])\n",
    "figure3_json['net effect options'] = net_effects\n",
    "figure3_json['fire effect options'] = figure2_json\n",
    "with open('figure3.json', \"w\") as outfile:\n",
    "    json.dump(figure3_json, outfile)"
   ]
  },
  {
   "cell_type": "markdown",
   "metadata": {},
   "source": [
    "So the values above represent the net effect of forests from the sources and sinks from California vegetation. We also have emissions due to fires calculated in two different ways by CARB and GFED above. We'll first translate the AGC vegetation effects into CO2 and then subtract out our fire emissions to get the non-fire effect. We'll assume that this is largely due to vegetation sequestration. It will likely be low-biased as we do not remove any effects of droughts or insect (esp. bark beetle) effects. It's worthwhile to note that Holland et al (2019) stress that while the remote sensing based techniques are more highly biased when doing inventory analysis for growth they _are_ useful for change mapping (like is done in by the CARB/GFED estimates!). So, we're essentially trusting the robust estimates from Holland et al (2019) do a good growth model, but then remove a credible fire emissions effect."
   ]
  },
  {
   "cell_type": "markdown",
   "metadata": {},
   "source": [
    "AB 1504 did another inventory analysis and found (p3): \n",
    "```Based on plots initially measured between 2001-2007 and re-measured between 2011- 2017, the average statewide rate of forest carbon sequestration is 29.2 ± 4.9 MMT CO2e per year, excluding net CO2e contributions from other sources such as, harvested wood products, forest land conversions and non-CO2 GHG emissions from wildfire (Table 4.1, 4.3).```"
   ]
  },
  {
   "cell_type": "code",
   "execution_count": 15,
   "metadata": {},
   "outputs": [
    {
     "data": {
      "text/plain": [
       "7.978142076502731"
      ]
     },
     "execution_count": 15,
     "metadata": {},
     "output_type": "execute_result"
    }
   ],
   "source": [
    " 29.2/C_TO_CO2_CONVERSION"
   ]
  },
  {
   "cell_type": "code",
   "execution_count": 8,
   "metadata": {},
   "outputs": [
    {
     "data": {
      "text/plain": [
       "{'holland_et_al_2019_single_years': {'value': -6.3,\n",
       "  'range': slice('2002', '2011', None)},\n",
       " 'holland_et_al_2019_periods': {'value': -4.5,\n",
       "  'range': slice('2007', '2016', None)},\n",
       " 'gonzalez_et_al_2015': {'value': -4.8, 'range': slice('2002', '2010', None)},\n",
       " 'christensen_et_al_2017': {'value': -6.5,\n",
       "  'range': slice('2006', '2015', None)}}"
      ]
     },
     "execution_count": 8,
     "metadata": {},
     "output_type": "execute_result"
    }
   ],
   "source": [
    "net_options"
   ]
  },
  {
   "cell_type": "markdown",
   "metadata": {},
   "source": [
    "Since Holland et al (2019) calculated it based upon changes in stocks between (2001-2005) and (2011-2015), we should align with them in our fire analyses to maintain consistency. So, we'll do 2001-2015."
   ]
  },
  {
   "cell_type": "code",
   "execution_count": 27,
   "metadata": {},
   "outputs": [],
   "source": [
    "accounting_method = 'christensen_et_al_2017'#'AB_1504'#'holland_et_al_2019_allNWL'\n",
    "fire_method = 'Fire (CARB)'#'Fire (GFED)'#'Fire (CARB)'## #"
   ]
  },
  {
   "cell_type": "code",
   "execution_count": 30,
   "metadata": {},
   "outputs": [],
   "source": [
    "fire_effect = full_emissions_df[fire_method].loc[net_options[accounting_method]['range']].mean()\n",
    "net_effect = net_options[accounting_method]['value'] * C_TO_CO2_CONVERSION\n",
    "vegetation_uptake = net_effect - fire_effect"
   ]
  },
  {
   "cell_type": "code",
   "execution_count": 31,
   "metadata": {},
   "outputs": [
    {
     "data": {
      "text/plain": [
       "<matplotlib.lines.Line2D at 0x7f9c75052d00>"
      ]
     },
     "execution_count": 31,
     "metadata": {},
     "output_type": "execute_result"
    },
    {
     "data": {
      "image/png": "[encoded data removed]",
      "text/plain": [
       "<Figure size 432x288 with 1 Axes>"
      ]
     },
     "metadata": {
      "needs_background": "light"
     },
     "output_type": "display_data"
    }
   ],
   "source": [
    "plt.bar(['Fire effect',\n",
    "         'Vegetation sequestration',\n",
    "         'Net'], np.array([fire_effect, vegetation_uptake, net_effect]))\n",
    "plt.ylabel('CO2 emissions [MMT CO2/year] from NWL when using\\n'\n",
    "            '{} and {}'.format(accounting_method, fire_method))\n",
    "plt.ylim(-75, 75)\n",
    "plt.axhline(0, color='k')"
   ]
  },
  {
   "cell_type": "markdown",
   "metadata": {},
   "source": [
    "Now we'll assume the vegetation sequestration is the same. We don't really know for sure (it's so tricky to figure out) but we'll just assume that since Holland et al (2019) did a good job we'll trust them. But we'll sub in the average annual fire effect like it's been for the past 15 years and update the net effect."
   ]
  },
  {
   "cell_type": "code",
   "execution_count": 32,
   "metadata": {},
   "outputs": [],
   "source": [
    "fire_effect = full_emissions_df[fire_method].truncate(before='2015', after='2021').mean()\n",
    "net_effect = vegetation_uptake + fire_effect"
   ]
  },
  {
   "cell_type": "code",
   "execution_count": 33,
   "metadata": {},
   "outputs": [
    {
     "data": {
      "text/plain": [
       "-3.5033333333333303"
      ]
     },
     "execution_count": 33,
     "metadata": {},
     "output_type": "execute_result"
    }
   ],
   "source": [
    "net_effect"
   ]
  },
  {
   "cell_type": "code",
   "execution_count": 34,
   "metadata": {},
   "outputs": [
    {
     "data": {
      "text/plain": [
       "<matplotlib.lines.Line2D at 0x7f9c74f75430>"
      ]
     },
     "execution_count": 34,
     "metadata": {},
     "output_type": "execute_result"
    },
    {
     "data": {
      "image/png": "[encoded data removed]",
      "text/plain": [
       "<Figure size 432x288 with 1 Axes>"
      ]
     },
     "metadata": {
      "needs_background": "light"
     },
     "output_type": "display_data"
    }
   ],
   "source": [
    "plt.bar(['Fire effect',\n",
    "         'Vegetation sequestration',\n",
    "         'Net'], np.array([fire_effect, vegetation_uptake, net_effect]))\n",
    "plt.ylabel('CO2 emissions [MMT CO2/year] from NWL when using\\n'\n",
    "            '{} and {}\\naveraged (2016-2020)'.format(accounting_method, fire_method))\n",
    "plt.ylim(-75,75)\n",
    "plt.axhline(0, color='k')"
   ]
  },
  {
   "cell_type": "markdown",
   "metadata": {},
   "source": [
    "Caveats:\n",
    "\n",
    "    * assumes no effect of a giant regrowth due to large fires in later part of record"
   ]
  },
  {
   "cell_type": "markdown",
   "metadata": {},
   "source": [
    "Instead if we took the vegetation sequestration from Christensen and applied the fire estimates we could also create an updated net effect."
   ]
  },
  {
   "cell_type": "markdown",
   "metadata": {},
   "source": [
    "Now let's add the \"net emissions\" assuming constant vegetation sequestration and variable fire effects to each year of the GHG inventory."
   ]
  },
  {
   "cell_type": "code",
   "execution_count": 21,
   "metadata": {},
   "outputs": [],
   "source": [
    "full_emissions_df['Vegetation sequestration'] = vegetation_uptake\n",
    "full_emissions_df['Net forest effect'] = full_emissions_df[fire_method] + full_emissions_df['Vegetation sequestration']\n",
    "full_emissions_df['Anthropogenic + Forests GHG Inventory'] = full_emissions_df['Anthropogenic GHG Inventory']+\\\n",
    "                                        full_emissions_df['Net forest effect']"
   ]
  },
  {
   "cell_type": "code",
   "execution_count": 22,
   "metadata": {},
   "outputs": [
    {
     "data": {
      "text/plain": [
       "(0.0, 496.27670363636366)"
      ]
     },
     "execution_count": 22,
     "metadata": {},
     "output_type": "execute_result"
    },
    {
     "data": {
      "image/png": "[encoded data removed]",
      "text/plain": [
       "<Figure size 432x288 with 1 Axes>"
      ]
     },
     "metadata": {
      "needs_background": "light"
     },
     "output_type": "display_data"
    }
   ],
   "source": [
    "full_emissions_df[[\n",
    "                'Anthropogenic GHG Inventory', 'Anthropogenic + Forests GHG Inventory'\n",
    "                  ]].plot()\n",
    "\n",
    "plt.axhline(431, color='k', label='AB32 2020 Limit')\n",
    "plt.ylabel('CO2 Emissions [MMT]')\n",
    "plt.legend()\n",
    "plt.ylim(0)"
   ]
  }
 ],
 "metadata": {
  "kernelspec": {
   "display_name": "Python [conda env:notebook] *",
   "language": "python",
   "name": "conda-env-notebook-py"
  },
  "language_info": {
   "codemirror_mode": {
    "name": "ipython",
    "version": 3
   },
   "file_extension": ".py",
   "mimetype": "text/x-python",
   "name": "python",
   "nbconvert_exporter": "python",
   "pygments_lexer": "ipython3",
   "version": "3.8.12"
  }
 },
 "nbformat": 4,
 "nbformat_minor": 4
}
